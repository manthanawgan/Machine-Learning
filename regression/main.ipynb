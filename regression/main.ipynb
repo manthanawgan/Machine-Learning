{
 "cells": [
  {
   "cell_type": "code",
   "execution_count": 2,
   "id": "81a38946",
   "metadata": {},
   "outputs": [],
   "source": [
    "import numpy as np\n",
    "import pandas as pd"
   ]
  },
  {
   "cell_type": "code",
   "execution_count": null,
   "id": "c8315507",
   "metadata": {},
   "outputs": [],
   "source": [
    "def linear_regression(X, y):\n",
    "    X_mean = np.mean(X)\n",
    "    y_mean = np.mean(y)\n",
    "    numerator = np.sum((X - X_mean) * (y - y_mean))\n",
    "    denominator = np.sum(X - X_mean)\n",
    "    m = (numerator / denominator)\n",
    "    c = (y_mean - m * X)\n",
    "\n",
    "def predict(m, X, c):\n",
    "    return m * X + c\n",
    "\n",
    "def rmse(X_mean, y_mean):\n",
    "    rmse = np.sqrt(np.mean((y_mean - X_mean) ** 2))\n",
    "    return rmse\n",
    "\n",
    "#creating data\n",
    "X = np.random()"
   ]
  }
 ],
 "metadata": {
  "kernelspec": {
   "display_name": "base",
   "language": "python",
   "name": "python3"
  },
  "language_info": {
   "codemirror_mode": {
    "name": "ipython",
    "version": 3
   },
   "file_extension": ".py",
   "mimetype": "text/x-python",
   "name": "python",
   "nbconvert_exporter": "python",
   "pygments_lexer": "ipython3",
   "version": "3.12.3"
  }
 },
 "nbformat": 4,
 "nbformat_minor": 5
}
