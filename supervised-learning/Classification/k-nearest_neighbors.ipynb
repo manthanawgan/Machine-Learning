{
 "cells": [
  {
   "cell_type": "code",
   "execution_count": 2,
   "id": "369b386b",
   "metadata": {},
   "outputs": [],
   "source": [
    "import numpy as np\n",
    "import pandas as pd\n",
    "import matplotlib.pyplot as plt\n",
    "from sklearn.model_selection import train_test_split\n",
    "from sklearn.preprocessing import LabelEncoder"
   ]
  },
  {
   "cell_type": "code",
   "execution_count": 3,
   "id": "c6d91c3c",
   "metadata": {},
   "outputs": [
    {
     "name": "stderr",
     "output_type": "stream",
     "text": [
      "<>:1: SyntaxWarning: invalid escape sequence '\\c'\n",
      "<>:1: SyntaxWarning: invalid escape sequence '\\c'\n",
      "C:\\Users\\ASUS\\AppData\\Local\\Temp\\ipykernel_5136\\1502514539.py:1: SyntaxWarning: invalid escape sequence '\\c'\n",
      "  df = pd.read_csv('D:\\coding\\Machine-Learning\\datasets\\Obesity Classification.csv')\n"
     ]
    },
    {
     "data": {
      "text/html": [
       "<div>\n",
       "<style scoped>\n",
       "    .dataframe tbody tr th:only-of-type {\n",
       "        vertical-align: middle;\n",
       "    }\n",
       "\n",
       "    .dataframe tbody tr th {\n",
       "        vertical-align: top;\n",
       "    }\n",
       "\n",
       "    .dataframe thead th {\n",
       "        text-align: right;\n",
       "    }\n",
       "</style>\n",
       "<table border=\"1\" class=\"dataframe\">\n",
       "  <thead>\n",
       "    <tr style=\"text-align: right;\">\n",
       "      <th></th>\n",
       "      <th>ID</th>\n",
       "      <th>Age</th>\n",
       "      <th>Gender</th>\n",
       "      <th>Height</th>\n",
       "      <th>Weight</th>\n",
       "      <th>BMI</th>\n",
       "      <th>Label</th>\n",
       "    </tr>\n",
       "  </thead>\n",
       "  <tbody>\n",
       "    <tr>\n",
       "      <th>0</th>\n",
       "      <td>1</td>\n",
       "      <td>25</td>\n",
       "      <td>Male</td>\n",
       "      <td>175</td>\n",
       "      <td>80</td>\n",
       "      <td>25.3</td>\n",
       "      <td>Normal Weight</td>\n",
       "    </tr>\n",
       "    <tr>\n",
       "      <th>1</th>\n",
       "      <td>2</td>\n",
       "      <td>30</td>\n",
       "      <td>Female</td>\n",
       "      <td>160</td>\n",
       "      <td>60</td>\n",
       "      <td>22.5</td>\n",
       "      <td>Normal Weight</td>\n",
       "    </tr>\n",
       "    <tr>\n",
       "      <th>2</th>\n",
       "      <td>3</td>\n",
       "      <td>35</td>\n",
       "      <td>Male</td>\n",
       "      <td>180</td>\n",
       "      <td>90</td>\n",
       "      <td>27.3</td>\n",
       "      <td>Overweight</td>\n",
       "    </tr>\n",
       "    <tr>\n",
       "      <th>3</th>\n",
       "      <td>4</td>\n",
       "      <td>40</td>\n",
       "      <td>Female</td>\n",
       "      <td>150</td>\n",
       "      <td>50</td>\n",
       "      <td>20.0</td>\n",
       "      <td>Underweight</td>\n",
       "    </tr>\n",
       "    <tr>\n",
       "      <th>4</th>\n",
       "      <td>5</td>\n",
       "      <td>45</td>\n",
       "      <td>Male</td>\n",
       "      <td>190</td>\n",
       "      <td>100</td>\n",
       "      <td>31.2</td>\n",
       "      <td>Obese</td>\n",
       "    </tr>\n",
       "  </tbody>\n",
       "</table>\n",
       "</div>"
      ],
      "text/plain": [
       "   ID  Age  Gender  Height  Weight   BMI          Label\n",
       "0   1   25    Male     175      80  25.3  Normal Weight\n",
       "1   2   30  Female     160      60  22.5  Normal Weight\n",
       "2   3   35    Male     180      90  27.3     Overweight\n",
       "3   4   40  Female     150      50  20.0    Underweight\n",
       "4   5   45    Male     190     100  31.2          Obese"
      ]
     },
     "execution_count": 3,
     "metadata": {},
     "output_type": "execute_result"
    }
   ],
   "source": [
    "df = pd.read_csv('D:\\coding\\Machine-Learning\\datasets\\Obesity Classification.csv')\n",
    "\n",
    "df.head()"
   ]
  },
  {
   "cell_type": "code",
   "execution_count": 4,
   "id": "76fb274f",
   "metadata": {},
   "outputs": [
    {
     "data": {
      "text/plain": [
       "(108, 7)"
      ]
     },
     "execution_count": 4,
     "metadata": {},
     "output_type": "execute_result"
    }
   ],
   "source": [
    "df.shape"
   ]
  },
  {
   "cell_type": "code",
   "execution_count": 5,
   "id": "eca6ba04",
   "metadata": {},
   "outputs": [],
   "source": [
    "df = df.drop(columns=['ID'])"
   ]
  },
  {
   "cell_type": "code",
   "execution_count": 6,
   "id": "cd7825d7",
   "metadata": {},
   "outputs": [
    {
     "data": {
      "text/html": [
       "<div>\n",
       "<style scoped>\n",
       "    .dataframe tbody tr th:only-of-type {\n",
       "        vertical-align: middle;\n",
       "    }\n",
       "\n",
       "    .dataframe tbody tr th {\n",
       "        vertical-align: top;\n",
       "    }\n",
       "\n",
       "    .dataframe thead th {\n",
       "        text-align: right;\n",
       "    }\n",
       "</style>\n",
       "<table border=\"1\" class=\"dataframe\">\n",
       "  <thead>\n",
       "    <tr style=\"text-align: right;\">\n",
       "      <th></th>\n",
       "      <th>Age</th>\n",
       "      <th>Gender</th>\n",
       "      <th>Height</th>\n",
       "      <th>Weight</th>\n",
       "      <th>BMI</th>\n",
       "      <th>Label</th>\n",
       "    </tr>\n",
       "  </thead>\n",
       "  <tbody>\n",
       "    <tr>\n",
       "      <th>0</th>\n",
       "      <td>25</td>\n",
       "      <td>Male</td>\n",
       "      <td>175</td>\n",
       "      <td>80</td>\n",
       "      <td>25.3</td>\n",
       "      <td>Normal Weight</td>\n",
       "    </tr>\n",
       "    <tr>\n",
       "      <th>1</th>\n",
       "      <td>30</td>\n",
       "      <td>Female</td>\n",
       "      <td>160</td>\n",
       "      <td>60</td>\n",
       "      <td>22.5</td>\n",
       "      <td>Normal Weight</td>\n",
       "    </tr>\n",
       "    <tr>\n",
       "      <th>2</th>\n",
       "      <td>35</td>\n",
       "      <td>Male</td>\n",
       "      <td>180</td>\n",
       "      <td>90</td>\n",
       "      <td>27.3</td>\n",
       "      <td>Overweight</td>\n",
       "    </tr>\n",
       "    <tr>\n",
       "      <th>3</th>\n",
       "      <td>40</td>\n",
       "      <td>Female</td>\n",
       "      <td>150</td>\n",
       "      <td>50</td>\n",
       "      <td>20.0</td>\n",
       "      <td>Underweight</td>\n",
       "    </tr>\n",
       "    <tr>\n",
       "      <th>4</th>\n",
       "      <td>45</td>\n",
       "      <td>Male</td>\n",
       "      <td>190</td>\n",
       "      <td>100</td>\n",
       "      <td>31.2</td>\n",
       "      <td>Obese</td>\n",
       "    </tr>\n",
       "  </tbody>\n",
       "</table>\n",
       "</div>"
      ],
      "text/plain": [
       "   Age  Gender  Height  Weight   BMI          Label\n",
       "0   25    Male     175      80  25.3  Normal Weight\n",
       "1   30  Female     160      60  22.5  Normal Weight\n",
       "2   35    Male     180      90  27.3     Overweight\n",
       "3   40  Female     150      50  20.0    Underweight\n",
       "4   45    Male     190     100  31.2          Obese"
      ]
     },
     "execution_count": 6,
     "metadata": {},
     "output_type": "execute_result"
    }
   ],
   "source": [
    "df.head()"
   ]
  },
  {
   "cell_type": "code",
   "execution_count": 7,
   "id": "eebee67a",
   "metadata": {},
   "outputs": [
    {
     "name": "stdout",
     "output_type": "stream",
     "text": [
      "Index(['Age', 'Gender', 'Height', 'Weight', 'BMI', 'Label'], dtype='object')\n"
     ]
    }
   ],
   "source": [
    "print(df.columns)"
   ]
  },
  {
   "cell_type": "code",
   "execution_count": 8,
   "id": "6716e3a1",
   "metadata": {},
   "outputs": [],
   "source": [
    "LE_gender = LabelEncoder()\n",
    "df['Gender'] = LE_gender.fit_transform(df['Gender'])\n",
    "\n",
    "LE_label = LabelEncoder()\n",
    "df['Label'] = LE_label.fit_transform(df['Label'])\n",
    "\n",
    "\n",
    "X = df.drop('Label', axis=1).values\n",
    "y = df['Label'].values\n",
    "\n",
    "X_train, X_test, y_train, y_test = train_test_split(\n",
    "    X, y, test_size=0.4, random_state=42, stratify=y)"
   ]
  },
  {
   "cell_type": "code",
   "execution_count": 9,
   "id": "66979b21",
   "metadata": {},
   "outputs": [
    {
     "data": {
      "text/plain": [
       "(array([[ 25. ,   1. , 175. ,  80. ,  25.3],\n",
       "        [ 30. ,   0. , 160. ,  60. ,  22.5],\n",
       "        [ 35. ,   1. , 180. ,  90. ,  27.3],\n",
       "        [ 40. ,   0. , 150. ,  50. ,  20. ],\n",
       "        [ 45. ,   1. , 190. , 100. ,  31.2],\n",
       "        [ 50. ,   0. , 140. ,  40. ,  16.7],\n",
       "        [ 55. ,   1. , 200. , 110. ,  34.2],\n",
       "        [ 60. ,   0. , 130. ,  30. ,  13.3],\n",
       "        [ 65. ,   1. , 210. , 120. ,  37.2],\n",
       "        [ 70. ,   0. , 120. ,  20. ,  10. ],\n",
       "        [ 18. ,   1. , 175. ,  70. ,  23.4],\n",
       "        [ 23. ,   0. , 160. ,  50. ,  20. ],\n",
       "        [ 28. ,   1. , 180. ,  80. ,  25.3],\n",
       "        [ 33. ,   0. , 150. ,  60. ,  22.5],\n",
       "        [ 38. ,   1. , 190. ,  90. ,  27.3],\n",
       "        [ 43. ,   0. , 140. ,  50. ,  20. ],\n",
       "        [ 48. ,   1. , 200. , 100. ,  31.2],\n",
       "        [ 53. ,   0. , 130. ,  40. ,  16.7],\n",
       "        [ 58. ,   1. , 210. , 110. ,  34.2],\n",
       "        [ 63. ,   0. , 120. ,  30. ,  13.3],\n",
       "        [ 68. ,   1. , 175. ,  80. ,  25.3],\n",
       "        [ 73. ,   0. , 160. ,  60. ,  22.5],\n",
       "        [ 78. ,   1. , 180. ,  90. ,  27.3],\n",
       "        [ 83. ,   0. , 150. ,  50. ,  20. ],\n",
       "        [ 88. ,   1. , 190. , 100. ,  31.2],\n",
       "        [ 93. ,   0. , 140. ,  40. ,  16.7],\n",
       "        [ 98. ,   1. , 200. , 110. ,  34.2],\n",
       "        [103. ,   0. , 130. ,  30. ,  13.3],\n",
       "        [108. ,   1. , 210. , 120. ,  37.2],\n",
       "        [ 19. ,   1. , 175. ,  75. ,  24.2],\n",
       "        [ 24. ,   0. , 160. ,  55. ,  21.2],\n",
       "        [ 29. ,   1. , 180. ,  85. ,  26.1],\n",
       "        [ 39. ,   1. , 190. ,  95. ,  27. ],\n",
       "        [ 44. ,   0. , 140. ,  75. ,  25. ],\n",
       "        [ 49. ,   1. , 200. , 105. ,  28.9],\n",
       "        [ 54. ,   0. , 130. ,  85. ,  27.5],\n",
       "        [ 59. ,   1. , 210. , 115. ,  30.8],\n",
       "        [ 64. ,   0. , 120. ,  95. ,  29.1],\n",
       "        [ 17. ,   1. , 175. ,  65. ,  22.7],\n",
       "        [ 22. ,   0. , 160. ,  45. ,  18.7],\n",
       "        [ 27. ,   1. , 180. ,  75. ,  24.2],\n",
       "        [ 32. ,   0. , 150. ,  55. ,  21.2],\n",
       "        [ 37. ,   1. , 190. ,  85. ,  26.1],\n",
       "        [ 42. ,   0. , 140. ,  65. ,  22.7],\n",
       "        [ 47. ,   1. , 200. ,  95. ,  27. ],\n",
       "        [ 52. ,   0. , 130. ,  75. ,  25. ],\n",
       "        [ 57. ,   1. , 210. , 105. ,  28.9],\n",
       "        [ 62. ,   0. , 120. ,  85. ,  27.5],\n",
       "        [ 67. ,   1. , 175. ,  65. ,  22.7],\n",
       "        [ 72. ,   0. , 160. ,  45. ,  18.7],\n",
       "        [ 77. ,   1. , 180. ,  75. ,  24.2],\n",
       "        [ 82. ,   0. , 150. ,  55. ,  21.2],\n",
       "        [ 87. ,   1. , 190. ,  85. ,  26.1],\n",
       "        [ 92. ,   0. , 140. ,  65. ,  22.7],\n",
       "        [ 97. ,   1. , 200. ,  95. ,  27. ],\n",
       "        [102. ,   0. , 130. ,  75. ,  25. ],\n",
       "        [107. ,   1. , 210. , 105. ,  28.9],\n",
       "        [112. ,   0. , 120. ,  85. ,  27.5],\n",
       "        [ 16. ,   1. , 175. ,  55. ,  21.2],\n",
       "        [ 21. ,   0. , 160. ,  35. ,  16.7],\n",
       "        [ 26. ,   1. , 180. ,  65. ,  22.7],\n",
       "        [ 31. ,   0. , 150. ,  45. ,  18.7],\n",
       "        [ 36. ,   1. , 190. ,  75. ,  24.2],\n",
       "        [ 41. ,   0. , 140. ,  55. ,  21.2],\n",
       "        [ 46. ,   1. , 200. ,  85. ,  26.1],\n",
       "        [ 51. ,   0. , 130. ,  65. ,  22.7],\n",
       "        [ 56. ,   1. , 210. ,  95. ,  27. ],\n",
       "        [ 61. ,   0. , 120. ,  75. ,  25. ],\n",
       "        [ 15. ,   1. , 175. ,  45. ,  18.7],\n",
       "        [ 20. ,   0. , 160. ,  30. ,  13.3],\n",
       "        [ 25. ,   1. , 180. ,  55. ,  21.2],\n",
       "        [ 30. ,   0. , 150. ,  40. ,  16.7],\n",
       "        [ 35. ,   1. , 190. ,  65. ,  22.7],\n",
       "        [ 40. ,   0. , 140. ,  50. ,  20. ],\n",
       "        [ 45. ,   1. , 200. ,  75. ,  24.2],\n",
       "        [ 50. ,   0. , 130. ,  60. ,  22.5],\n",
       "        [ 55. ,   1. , 210. ,  85. ,  26.1],\n",
       "        [ 60. ,   0. , 120. ,  70. ,  23.4],\n",
       "        [ 14. ,   1. , 175. ,  35. ,  16.7],\n",
       "        [ 19. ,   0. , 160. ,  25. ,  10. ],\n",
       "        [ 24. ,   1. , 180. ,  45. ,  18.7],\n",
       "        [ 29. ,   0. , 150. ,  30. ,  13.3],\n",
       "        [ 34. ,   1. , 190. ,  55. ,  21.2],\n",
       "        [ 13. ,   1. , 175. ,  25. ,  10. ],\n",
       "        [ 18. ,   0. , 160. ,  20. ,   8.3],\n",
       "        [ 23. ,   1. , 180. ,  30. ,  13.3],\n",
       "        [ 28. ,   0. , 150. ,  25. ,  10. ],\n",
       "        [ 33. ,   1. , 190. ,  40. ,  16.7],\n",
       "        [ 38. ,   0. , 140. ,  35. ,  16.7],\n",
       "        [ 43. ,   1. , 200. ,  50. ,  20. ],\n",
       "        [ 48. ,   0. , 130. ,  40. ,  16.7],\n",
       "        [ 53. ,   1. , 210. ,  55. ,  21.2],\n",
       "        [ 58. ,   0. , 120. ,  35. ,  16.7],\n",
       "        [ 12. ,   1. , 175. ,  15. ,   5.6],\n",
       "        [ 17. ,   0. , 160. ,  15. ,   5.6],\n",
       "        [ 22. ,   1. , 180. ,  20. ,   8.3],\n",
       "        [ 27. ,   0. , 150. ,  20. ,   8.3],\n",
       "        [ 32. ,   1. , 190. ,  25. ,  10. ],\n",
       "        [ 37. ,   0. , 140. ,  25. ,  10. ],\n",
       "        [ 42. ,   1. , 200. ,  30. ,  13.3],\n",
       "        [ 47. ,   0. , 130. ,  30. ,  13.3],\n",
       "        [ 52. ,   1. , 210. ,  35. ,  16.7],\n",
       "        [ 57. ,   0. , 120. ,  25. ,  10. ],\n",
       "        [ 11. ,   1. , 175. ,  10. ,   3.9],\n",
       "        [ 16. ,   0. , 160. ,  10. ,   3.9],\n",
       "        [ 21. ,   1. , 180. ,  15. ,   5.6],\n",
       "        [ 26. ,   0. , 150. ,  15. ,   5.6],\n",
       "        [ 31. ,   1. , 190. ,  20. ,   8.3]]),\n",
       " array([0, 0, 2, 3, 1, 3, 1, 3, 1, 3, 0, 3, 0, 0, 2, 3, 1, 3, 1, 3, 0, 0,\n",
       "        2, 3, 1, 3, 1, 3, 1, 0, 0, 2, 2, 2, 1, 2, 1, 2, 0, 3, 0, 0, 2, 0,\n",
       "        2, 2, 1, 2, 0, 3, 0, 0, 2, 0, 2, 2, 1, 2, 0, 3, 0, 3, 0, 0, 2, 0,\n",
       "        2, 2, 3, 3, 0, 3, 0, 3, 0, 0, 2, 0, 3, 3, 3, 3, 0, 3, 3, 3, 3, 3,\n",
       "        3, 3, 3, 0, 3, 3, 3, 3, 3, 3, 3, 3, 3, 3, 3, 3, 3, 3, 3, 3]))"
      ]
     },
     "execution_count": 9,
     "metadata": {},
     "output_type": "execute_result"
    }
   ],
   "source": [
    "X, y"
   ]
  },
  {
   "cell_type": "code",
   "execution_count": 10,
   "id": "cf3167cc",
   "metadata": {},
   "outputs": [
    {
     "data": {
      "image/png": "[encoded data removed]",
      "text/plain": [
       "<Figure size 800x600 with 1 Axes>"
      ]
     },
     "metadata": {},
     "output_type": "display_data"
    }
   ],
   "source": [
    "label_names = {0: 'Normal Weight', 1: 'Obese', 2: 'Overweight', 3: 'Underweight'}\n",
    "colors = ['green', 'red', 'orange', 'blue']\n",
    "cmap = [colors[label] for label in y]\n",
    "\n",
    "plt.figure(figsize=(8, 6))\n",
    "scatter = plt.scatter(X[:, 2], X[:, 3], c=cmap, edgecolor='k', s=100)\n",
    "\n",
    "plt.xlabel(\"Height (cm)\")\n",
    "plt.ylabel(\"Weight (kg)\")\n",
    "plt.title(\"BMI Classification - Height vs Weight\")\n",
    "plt.grid(True)\n",
    "\n",
    "legend_handles = [plt.Line2D([0], [0], marker='o', color='w',\n",
    "                             label=label_names[i],\n",
    "                             markerfacecolor=colors[i], markersize=10)\n",
    "                  for i in range(len(label_names))]\n",
    "plt.legend(handles=legend_handles, title=\"BMI Class\")\n",
    "\n",
    "plt.show()"
   ]
  },
  {
   "cell_type": "code",
   "execution_count": 13,
   "id": "8a5bd1e6",
   "metadata": {},
   "outputs": [
    {
     "name": "stdout",
     "output_type": "stream",
     "text": [
      "X-shape is: (108, 5), y-shape is: (108,)\n"
     ]
    }
   ],
   "source": [
    "print(f\"X-shape is: {X.shape}, y-shape is: {y.shape}\")"
   ]
  },
  {
   "cell_type": "code",
   "execution_count": null,
   "id": "3304cc7e",
   "metadata": {},
   "outputs": [
    {
     "ename": "SyntaxError",
     "evalue": "invalid syntax (560556338.py, line 2)",
     "output_type": "error",
     "traceback": [
      "\u001b[1;36m  Cell \u001b[1;32mIn[12], line 2\u001b[1;36m\u001b[0m\n\u001b[1;33m    distance =\u001b[0m\n\u001b[1;37m               ^\u001b[0m\n\u001b[1;31mSyntaxError\u001b[0m\u001b[1;31m:\u001b[0m invalid syntax\n"
     ]
    }
   ],
   "source": [
    "class K_nearest_neighbor:\n",
    "    def __init__(self, X, y, distance):\n",
    "        self.X = X\n",
    "        self.y = y\n",
    "        self.distance = distance\n",
    "    \n",
    "\n",
    "    def equcildean_distance():\n",
    "        X_mean = np.mean(X)\n",
    "        distance = np.sqrt((np.sum(X_mean - X)) **2)\n",
    "        return distance\n"
   ]
  },
  {
   "cell_type": "code",
   "execution_count": null,
   "id": "c2b4ef13",
   "metadata": {},
   "outputs": [],
   "source": []
  }
 ],
 "metadata": {
  "kernelspec": {
   "display_name": "base",
   "language": "python",
   "name": "python3"
  },
  "language_info": {
   "codemirror_mode": {
    "name": "ipython",
    "version": 3
   },
   "file_extension": ".py",
   "mimetype": "text/x-python",
   "name": "python",
   "nbconvert_exporter": "python",
   "pygments_lexer": "ipython3",
   "version": "3.12.3"
  }
 },
 "nbformat": 4,
 "nbformat_minor": 5
}
