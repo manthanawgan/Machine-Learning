{
 "cells": [
  {
   "cell_type": "markdown",
   "id": "0acfbbb9",
   "metadata": {},
   "source": [
    "### From scratch\n",
    "- Lasso is short for Least Absolute Shrinkage and Selection Operator\n"
   ]
  },
  {
   "cell_type": "code",
   "execution_count": null,
   "id": "b91e9a79",
   "metadata": {},
   "outputs": [],
   "source": []
  },
  {
   "cell_type": "code",
   "execution_count": null,
   "id": "73d74a9d",
   "metadata": {},
   "outputs": [],
   "source": []
  }
 ],
 "metadata": {
  "kernelspec": {
   "display_name": "base",
   "language": "python",
   "name": "python3"
  },
  "language_info": {
   "name": "python",
   "version": "3.12.3"
  }
 },
 "nbformat": 4,
 "nbformat_minor": 5
}
