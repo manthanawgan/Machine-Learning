{
 "cells": [
  {
   "cell_type": "code",
   "execution_count": 1,
   "id": "81a38946",
   "metadata": {},
   "outputs": [],
   "source": [
    "import numpy as np\n",
    "import pandas as pd\n",
    "import matplotlib.pyplot as plt"
   ]
  },
  {
   "cell_type": "code",
   "execution_count": null,
   "id": "c8315507",
   "metadata": {},
   "outputs": [],
   "source": [
    "# variables to store mean and standard deviation for each feature\n",
    "mu = []\n",
    "std = []\n",
    "\n",
    "\n",
    "def load_data(filename):\n",
    "    df = pd.rad_csv(filename, sep=\",\", index_col= False)\n",
    "    df.columns = [\"housesize\", \"rooms\", \"price\"]\n",
    "    data = np.array(df, dtype= float)\n",
    "    plot_data(data[:, :2], data[:, -1])\n",
    "    normalize(data)\n",
    "    return data[:, :2], data[:, -1]\n",
    "\n",
    "def plot_data(x, y):\n",
    "    plt.xlabel('house size')\n",
    "    plt.ylabel('price')\n",
    "    plt.plot(x[:, 0], y, 'bo')\n",
    "    plt.show()\n",
    "\n",
    "def normalize(data):\n",
    "    for i in range(0, data.shape[1] -1):\n",
    "        data[:, i] = (data[:, i] - np.mean(data[:, i])) / (np.std(data[:, i]))\n",
    "        mu.append(np.mean(data[:, i]))\n",
    "        std.append(np.std(data[:, i]))\n",
    "\n",
    "def h(x, theta):\n",
    "    return np.matmul(x, theta)\n",
    "\n",
    "def cost_function(x, y, theta):\n",
    "    return (h(x, theta)- y).T@(h(x, theta) - y)/(2*y.shape[0])\n",
    "\n",
    "def gradient_descent(x, y, theta, learning_rate= 0.1, num_epochs = 10):\n",
    "    m = x.shape[0]\n",
    "    J_all = []\n",
    "\n",
    "    for _ in range(num_epochs):\n",
    "        h_x = h(x, theta)\n",
    "        cost_ = (1/m) * (x.T@(h_x - y))\n",
    "        theta = theta - (learning_rate * cost_)\n",
    "        J_all.append(cost_function(x, y, theta))\n",
    "\n",
    "    return theta, J_all\n",
    "\n",
    "\n",
    "            \n",
    "\n",
    "\n",
    "\n"
   ]
  },
  {
   "cell_type": "code",
   "execution_count": null,
   "id": "0ac10cf4",
   "metadata": {},
   "outputs": [],
   "source": []
  }
 ],
 "metadata": {
  "kernelspec": {
   "display_name": "base",
   "language": "python",
   "name": "python3"
  },
  "language_info": {
   "codemirror_mode": {
    "name": "ipython",
    "version": 3
   },
   "file_extension": ".py",
   "mimetype": "text/x-python",
   "name": "python",
   "nbconvert_exporter": "python",
   "pygments_lexer": "ipython3",
   "version": "3.12.3"
  }
 },
 "nbformat": 4,
 "nbformat_minor": 5
}
