{
 "cells": [
  {
   "cell_type": "code",
   "execution_count": 2,
   "id": "81a38946",
   "metadata": {},
   "outputs": [],
   "source": [
    "import numpy as np\n",
    "import pandas as pd"
   ]
  },
  {
   "cell_type": "code",
   "execution_count": 24,
   "id": "c8315507",
   "metadata": {},
   "outputs": [
    {
     "name": "stdout",
     "output_type": "stream",
     "text": [
      "rmse = 0.85618466309812\n",
      "predictions = [ 6.56169086  8.49401726 14.29099647 23.95262848 59.70066693]\n",
      "intercept = -0.20145154962729706\n",
      "slope = 0.966163201255394\n"
     ]
    }
   ],
   "source": [
    "def linear_regression(X, y):\n",
    "    x_mean = np.mean(X)\n",
    "    y_mean = np.mean(y)\n",
    "    numerator = np.sum((X - x_mean) * (y - y_mean))\n",
    "    denominator = np.sum((X - x_mean) ** 2)\n",
    "    m = (numerator / denominator)\n",
    "    c = y_mean - (m * x_mean)\n",
    "    return m, c\n",
    "\n",
    "def predict(m, X, c):\n",
    "    return m * X + c\n",
    "\n",
    "def rmse(y_true, y_pred):\n",
    "    return np.sqrt(np.mean((y_true - y_pred) ** 2))\n",
    "\n",
    "\n",
    "#creating data\n",
    "X = np.array([7, 9, 15, 25, 62])\n",
    "Y = np.array([6, 10, 14, 23, 60])\n",
    "\n",
    "m, c = linear_regression(X, Y)\n",
    "\n",
    "predictions = predict(m, X, c)\n",
    "\n",
    "root_mean_square_error = rmse(Y, predictions)\n",
    "\n",
    "\n",
    "print(f\"rmse = {root_mean_square_error}\")\n",
    "print(f\"predictions = {predictions}\")\n",
    "print(f\"intercept = {c}\")\n",
    "print(f\"slope = {m}\")"
   ]
  },
  {
   "cell_type": "code",
   "execution_count": 26,
   "id": "b9022fb4",
   "metadata": {},
   "outputs": [
    {
     "data": {
      "text/plain": [
       "<function matplotlib.pyplot.show(close=None, block=None)>"
      ]
     },
     "execution_count": 26,
     "metadata": {},
     "output_type": "execute_result"
    },
    {
     "data": {
      "image/png": "[encoded data removed]",
      "text/plain": [
       "<Figure size 640x480 with 1 Axes>"
      ]
     },
     "metadata": {},
     "output_type": "display_data"
    }
   ],
   "source": [
    "import matplotlib.pyplot as plt\n",
    "plt.scatter(X, Y, color='blue', label='Data points')\n",
    "plt.plot(X, predictions, color='red', label='Regression Line')\n",
    "plt.show"
   ]
  },
  {
   "cell_type": "code",
   "execution_count": null,
   "id": "0ac10cf4",
   "metadata": {},
   "outputs": [],
   "source": []
  }
 ],
 "metadata": {
  "kernelspec": {
   "display_name": "base",
   "language": "python",
   "name": "python3"
  },
  "language_info": {
   "codemirror_mode": {
    "name": "ipython",
    "version": 3
   },
   "file_extension": ".py",
   "mimetype": "text/x-python",
   "name": "python",
   "nbconvert_exporter": "python",
   "pygments_lexer": "ipython3",
   "version": "3.12.3"
  }
 },
 "nbformat": 4,
 "nbformat_minor": 5
}
