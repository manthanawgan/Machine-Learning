{
 "cells": [
  {
   "cell_type": "code",
   "execution_count": 2,
   "id": "81a38946",
   "metadata": {},
   "outputs": [],
   "source": [
    "import numpy as np\n",
    "import pandas as pd\n",
    "import matplotlib.pyplot as plt"
   ]
  },
  {
   "cell_type": "code",
   "execution_count": 3,
   "id": "c8315507",
   "metadata": {},
   "outputs": [],
   "source": [
    "# variables to store mean and standard deviation for each feature\n",
    "mu = []\n",
    "std = []\n",
    "\n",
    "def load_data(filename):\n",
    "    df = pd.read_csv(filename, sep=\",\", index_col= False)\n",
    "    df.columns = [\"housesize\", \"rooms\", \"price\"]\n",
    "    data = np.array(df, dtype= float)\n",
    "    plot_data(data[:, :2], data[:, -1])\n",
    "    normalize(data)\n",
    "    return data[:, :2], data[:, -1]\n",
    "\n",
    "def plot_data(x, y):\n",
    "    plt.xlabel('house size')\n",
    "    plt.ylabel('price')\n",
    "    plt.plot(x[:, 0], y, 'bo')\n",
    "    plt.show()\n",
    "\n",
    "def normalize(data):\n",
    "    for i in range(0, data.shape[1] -1):\n",
    "        data[:, i] = (data[:, i] - np.mean(data[:, i])) / (np.std(data[:, i]))\n",
    "        mu.append(np.mean(data[:, i]))\n",
    "        std.append(np.std(data[:, i]))\n",
    "\n",
    "def h(x, theta):\n",
    "    return np.matmul(x, theta)\n",
    "\n",
    "def cost_function(x, y, theta):\n",
    "    return (h(x, theta)- y).T@(h(x, theta) - y)/(2*y.shape[0])\n",
    "\n",
    "def gradient_descent(x, y, theta, learning_rate= 0.1, num_epochs = 10):\n",
    "    m = x.shape[0]\n",
    "    J_all = []\n",
    "\n",
    "    for _ in range(num_epochs):\n",
    "        h_x = h(x, theta)\n",
    "        cost_ = (1/m) * (x.T@(h_x - y))\n",
    "        theta = theta - (learning_rate * cost_)\n",
    "        J_all.append(cost_function(x, y, theta))\n",
    "\n",
    "    return theta, J_all"
   ]
  },
  {
   "cell_type": "code",
   "execution_count": 4,
   "id": "0ac10cf4",
   "metadata": {},
   "outputs": [
    {
     "name": "stderr",
     "output_type": "stream",
     "text": [
      "<>:1: SyntaxWarning: invalid escape sequence '\\c'\n",
      "<>:1: SyntaxWarning: invalid escape sequence '\\c'\n",
      "C:\\Users\\ASUS\\AppData\\Local\\Temp\\ipykernel_432\\1386317325.py:1: SyntaxWarning: invalid escape sequence '\\c'\n",
      "  x, y = load_data('D:\\coding\\Machine-Learning\\datasets\\house_price_data.csv')\n"
     ]
    },
    {
     "data": {
      "image/png": "[encoded data removed]",
      "text/plain": [
       "<Figure size 640x480 with 1 Axes>"
      ]
     },
     "metadata": {},
     "output_type": "display_data"
    },
    {
     "name": "stdout",
     "output_type": "stream",
     "text": [
      "Cost:  [[2.08475311e+09]]\n",
      "Parameters:  [[ 3.37371711e+05]\n",
      " [ 1.04066024e+05]\n",
      " [-6.47874139e+01]]\n"
     ]
    }
   ],
   "source": [
    "x, y = load_data('D:\\coding\\Machine-Learning\\datasets\\house_price_data.csv')\n",
    "\n",
    "y = np.reshape(y,(46, 1))\n",
    "\n",
    "#this adds a bias(intercept) term\n",
    "x = np.hstack((np.ones((x.shape[0],1)), x))\n",
    "\n",
    "\n",
    "theta = np.zeros((x.shape[1], 1))\n",
    "learning_rate = 0.1\n",
    "num_epochs = 50\n",
    "theta, J_all = gradient_descent(x, y, theta, learning_rate, num_epochs)\n",
    "J = cost_function(x, y, theta)\n",
    "print(\"Cost: \", J)\n",
    "print(\"Parameters: \", theta)\n"
   ]
  },
  {
   "cell_type": "code",
   "execution_count": 6,
   "id": "c18f0066",
   "metadata": {},
   "outputs": [
    {
     "data": {
      "text/plain": [
       "array([[ 3.37371711e+05],\n",
       "       [ 1.04066024e+05],\n",
       "       [-6.47874139e+01]])"
      ]
     },
     "execution_count": 6,
     "metadata": {},
     "output_type": "execute_result"
    }
   ],
   "source": [
    "theta"
   ]
  },
  {
   "cell_type": "code",
   "execution_count": 21,
   "id": "a0256f25",
   "metadata": {},
   "outputs": [
    {
     "data": {
      "text/plain": [
       "((46, 2), (46, 1))"
      ]
     },
     "execution_count": 21,
     "metadata": {},
     "output_type": "execute_result"
    }
   ],
   "source": [
    "x.shape, y.shape"
   ]
  },
  {
   "cell_type": "markdown",
   "id": "8a01d6af",
   "metadata": {},
   "source": [
    "| Concept          | Purpose                                                         |\n",
    "| ---------------- | --------------------------------------------------------------- |\n",
    "| Normalization    | Makes training more efficient by scaling features               |\n",
    "| Cost Function    | Measures how far predictions are from true values               |\n",
    "| Gradient Descent | Learning algorithm to minimize cost function                    |\n",
    "| Hypothesis (`h`) | Mathematical model that makes predictions                       |\n",
    "| Epochs           | Number of times the model sees the full dataset during training |\n",
    "| Learning Rate    | Controls how big each step is in the parameter update process   |\n"
   ]
  },
  {
   "cell_type": "markdown",
   "id": "cde32a94",
   "metadata": {},
   "source": []
  }
 ],
 "metadata": {
  "kernelspec": {
   "display_name": "base",
   "language": "python",
   "name": "python3"
  },
  "language_info": {
   "codemirror_mode": {
    "name": "ipython",
    "version": 3
   },
   "file_extension": ".py",
   "mimetype": "text/x-python",
   "name": "python",
   "nbconvert_exporter": "python",
   "pygments_lexer": "ipython3",
   "version": "3.12.3"
  }
 },
 "nbformat": 4,
 "nbformat_minor": 5
}
