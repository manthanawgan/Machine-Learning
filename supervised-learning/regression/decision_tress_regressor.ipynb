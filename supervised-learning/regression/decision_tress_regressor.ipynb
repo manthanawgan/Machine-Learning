{
 "cells": [
  {
   "cell_type": "code",
   "execution_count": 2,
   "id": "d9bddb1d",
   "metadata": {},
   "outputs": [],
   "source": [
    "import numpy as np\n",
    "import matplotlib.pyplot as plt \n",
    "import pandas as pd\n",
    "from sklearn.model_selection import train_test_split"
   ]
  },
  {
   "cell_type": "code",
   "execution_count": null,
   "id": "900d25b3",
   "metadata": {},
   "outputs": [],
   "source": [
    "dataset_dict = {\n",
    "    'Outlook': ['sunny', 'sunny', 'overcast', 'rain', 'rain', 'rain', 'overcast', 'sunny', 'sunny', 'rain', 'sunny', 'overcast', 'overcast', 'rain', 'sunny', 'overcast', 'rain', 'sunny', 'sunny', 'rain', 'overcast', 'rain', 'sunny', 'overcast', 'sunny', 'overcast', 'rain', 'overcast'],\n",
    "    'Temperature': [85.0, 80.0, 83.0, 70.0, 68.0, 65.0, 64.0, 72.0, 69.0, 75.0, 75.0, 72.0, 81.0, 71.0, 81.0, 74.0, 76.0, 78.0, 82.0, 67.0, 85.0, 73.0, 88.0, 77.0, 79.0, 80.0, 66.0, 84.0],\n",
    "    'Humidity': [85.0, 90.0, 78.0, 96.0, 80.0, 70.0, 65.0, 95.0, 70.0, 80.0, 70.0, 90.0, 75.0, 80.0, 88.0, 92.0, 85.0, 75.0, 92.0, 90.0, 85.0, 88.0, 65.0, 70.0, 60.0, 95.0, 70.0, 78.0],\n",
    "    'Wind': [False, True, False, False, False, True, True, False, False, False, True, True, False, True, True, False, False, True, False, True, True, False, True, False, False, True, False, False],\n",
    "    'Num_Players': [52, 39, 43, 37, 28, 19, 43, 47, 56, 33, 49, 23, 42, 13, 33, 29, 25, 51, 41, 14, 34, 29, 49, 36, 57, 21, 23, 41]\n",
    "}\n",
    "\n",
    "df = pd.DataFrame(dataset_dict)\n",
    "\n",
    "df = pd.get_dummies(df, columns=['Outlook'],prefix='',prefix_sep='')        #one-hot encoding\n",
    "\n",
    "df['Wind'] = df['Wind'].astype(int)\n",
    "\n",
    "column_order = ['sunny', 'overcast', 'rain', 'Temperature', 'Humidity', 'Wind', 'Num_Players']\n",
    "df = df[column_order]\n",
    "\n",
    "X, y = df.drop('Num_Players', axis=1), df['Num_Players']\n",
    "X_train, X_test, y_train, y_test = train_test_split(X, y, train_size=0.5, shuffle=False)"
   ]
  },
  {
   "cell_type": "code",
   "execution_count": 14,
   "id": "d1ce6d71",
   "metadata": {},
   "outputs": [
    {
     "name": "stdout",
     "output_type": "stream",
     "text": [
      "    feature  y_actual  squared_diff\n",
      "6      64.0        43       95.0625\n",
      "5      65.0        19      203.0625\n",
      "4      68.0        28       27.5625\n",
      "8      69.0        56      517.5625\n",
      "3      70.0        37       14.0625\n",
      "13     71.0        13      410.0625\n",
      "7      72.0        47      189.0625\n",
      "11     72.0        23      105.0625\n",
      "9      75.0        33      100.0000\n",
      "10     75.0        49       36.0000\n",
      "1      80.0        39       16.0000\n",
      "12     81.0        42        1.0000\n",
      "2      83.0        43        0.0000\n",
      "0      85.0        52       81.0000\n",
      "nResults for split at 73.5 on feature 'Temperature':\n",
      "Left child MSE (n=8, mean=33.25): 195.19\n",
      "Right child MSE (n=6, mean=43.00): 39.00\n",
      "Weighted average MSE: 128.25\n"
     ]
    }
   ],
   "source": [
    "def split_mse_calculate(X_train, y_train, feature_name, split_point):\n",
    "    \n",
    "    compute_df = pd.DataFrame({\n",
    "            'feature': X_train[feature_name],\n",
    "            'y_actual': y_train\n",
    "        }).sort_values('feature')\n",
    "    \n",
    "    #split and find mean\n",
    "    left_mask = compute_df['feature'] <= split_point\n",
    "    left_mean = compute_df[left_mask]['y_actual'].mean()\n",
    "    right_mean = compute_df[~left_mask]['y_actual'].mean()\n",
    "\n",
    "\n",
    "    #calculate squared diff\n",
    "    compute_df['squared_diff'] = np.where(\n",
    "        left_mask,\n",
    "            (compute_df['y_actual'] - left_mean) ** 2,\n",
    "            (compute_df['y_actual'] - right_mean) ** 2\n",
    "            )\n",
    "\n",
    "    #mse\n",
    "    left_mse = compute_df[left_mask]['squared_diff'].mean()\n",
    "    right_mse = compute_df[~left_mask]['squared_diff'].mean()\n",
    "    n_left = sum(left_mask)\n",
    "    n_right = len(compute_df) - n_left\n",
    "    \n",
    "    weighted_mse = (n_left * left_mse + n_right * right_mse) / len(compute_df)\n",
    "\n",
    "    print(compute_df)\n",
    "    print(f\"nResults for split at {split_point} on feature '{feature_name}':\")\n",
    "    print(f\"Left child MSE (n={n_left}, mean={left_mean:.2f}): {left_mse:.2f}\")\n",
    "    print(f\"Right child MSE (n={n_right}, mean={right_mean:.2f}): {right_mse:.2f}\")\n",
    "    print(f\"Weighted average MSE: {weighted_mse:.2f}\")\n",
    "\n",
    "\n",
    "split_mse_calculate(X_train, y_train, 'Temperature', 73.5)"
   ]
  },
  {
   "cell_type": "code",
   "execution_count": null,
   "id": "233d9e88",
   "metadata": {},
   "outputs": [],
   "source": []
  }
 ],
 "metadata": {
  "kernelspec": {
   "display_name": "base",
   "language": "python",
   "name": "python3"
  },
  "language_info": {
   "codemirror_mode": {
    "name": "ipython",
    "version": 3
   },
   "file_extension": ".py",
   "mimetype": "text/x-python",
   "name": "python",
   "nbconvert_exporter": "python",
   "pygments_lexer": "ipython3",
   "version": "3.12.3"
  }
 },
 "nbformat": 4,
 "nbformat_minor": 5
}
